{
 "cells": [
  {
   "cell_type": "code",
   "execution_count": null,
   "metadata": {},
   "outputs": [],
   "source": [
    "# https://www.python.org/dev/peps/pep-0249/\n",
    "# https://docs.python.org/3/library/sqlite3.html\n",
    "# https://pyneng.readthedocs.io/ru/latest/book/25_db/index.html\n",
    "\n",
    "db_name = 'sqlite-api.db'"
   ]
  },
  {
   "cell_type": "code",
   "execution_count": null,
   "metadata": {},
   "outputs": [],
   "source": [
    "import sqlite3\n",
    "con = sqlite3.connect(db_name)\n",
    "\n",
    "cur = con.cursor()\n",
    "\n",
    "# Create table\n",
    "cur.execute('''CREATE TABLE IF NOT EXISTS stocks\n",
    "               (date text, trans text, symbol text, qty real, price real)''')\n",
    "\n",
    "try:\n",
    "    # Insert a row of data\n",
    "    cur.execute(\"INSERT INTO stocks VALUES ('2006-01-05', 'BUY', 'RHAT', 100, 35.14)\")\n",
    "    cur.execute(\"INSERT INTO stocks VALUES ('2006-03-28', 'BUY', 'IBM', 1000, 45.0)\")\n",
    "    cur.execute(\"INSERT INTO stocks VALUES ('2006-04-06', 'SELL', 'IBM', 500, 53.0)\")\n",
    "    cur.execute(\"INSERT INTO stocks VALUES ('2006-04-05', 'BUY', 'MSFT', 1000, 72.0)\")\n",
    "\n",
    "\n",
    "    # Save (commit) the changes\n",
    "    con.commit()\n",
    "finally:\n",
    "    # We can also close the connection if we are done with it.\n",
    "    # Just be sure any changes have been committed or they will be lost.\n",
    "    con.close()"
   ]
  },
  {
   "cell_type": "code",
   "execution_count": null,
   "metadata": {},
   "outputs": [],
   "source": [
    "import sqlite3\n",
    "connnection = sqlite3.connect(db_name)\n",
    "cursor = connnection.cursor()\n",
    "try:\n",
    "    for row in cursor.execute('SELECT * FROM stocks ORDER BY price'):\n",
    "        print(row)\n",
    "\n",
    "finally:\n",
    "    connnection.close()        "
   ]
  },
  {
   "cell_type": "code",
   "execution_count": null,
   "metadata": {},
   "outputs": [],
   "source": [
    "import sqlite3\n",
    "connnection = sqlite3.connect(db_name)\n",
    "cursor = connnection.cursor()\n",
    "try:\n",
    "    cursor.execute('SELECT * FROM stocks ORDER BY price')\n",
    "    print(cursor.fetchone())    \n",
    "    print(cursor.fetchone())    \n",
    "\n",
    "finally:\n",
    "    connnection.close()  "
   ]
  },
  {
   "cell_type": "code",
   "execution_count": null,
   "metadata": {},
   "outputs": [],
   "source": [
    "import sqlite3\n",
    "connnection = sqlite3.connect(db_name)\n",
    "cursor = connnection.cursor()\n",
    "try:\n",
    "    cursor.execute('SELECT * FROM stocks ORDER BY price')\n",
    "    while True:\n",
    "        next_row = cursor.fetchone()\n",
    "        if next_row:\n",
    "            print(next_row)\n",
    "        else:\n",
    "            break\n",
    "\n",
    "finally:\n",
    "    connnection.close()  "
   ]
  },
  {
   "cell_type": "code",
   "execution_count": null,
   "metadata": {},
   "outputs": [],
   "source": [
    "import sqlite3\n",
    "connnection = sqlite3.connect(db_name)\n",
    "cursor = connnection.cursor()\n",
    "try:\n",
    "    cursor.execute('SELECT * FROM stocks ORDER BY price')\n",
    "    next_row = cursor.fetchmany(2)\n",
    "    print(next_row)\n",
    "\n",
    "finally:\n",
    "    connnection.close() "
   ]
  },
  {
   "cell_type": "markdown",
   "metadata": {},
   "source": [
    "SQL operations usually need to use values from Python variables. \n",
    "However, beware of using Python’s string operations to assemble queries, as they are vulnerable to SQL injection attacks \n",
    "(see the xkcd webcomic for a humorous example of what can go wrong):\n"
   ]
  },
  {
   "cell_type": "code",
   "execution_count": null,
   "metadata": {},
   "outputs": [],
   "source": [
    "import sqlite3\n",
    "connnection = sqlite3.connect(db_name)\n",
    "cursor = connnection.cursor()\n",
    "try:\n",
    "    symbol = 'RHAT'\n",
    "    cursor.execute(\"SELECT * FROM stocks WHERE symbol = '%s'\" % symbol)\n",
    "    print(cursor.fetchone())\n",
    "finally:\n",
    "    connnection.close() "
   ]
  },
  {
   "cell_type": "markdown",
   "metadata": {},
   "source": [
    "Instead, use the DB-API’s parameter substitution. \n",
    "To insert a variable into a query string, use a placeholder in the string, and substitute the actual values into the query by providing them as a tuple of values to the second argument of the cursor’s execute() method. \n",
    "\n",
    "An SQL statement may use one of two kinds of placeholders: \n",
    "question marks (qmark style) or \n",
    "named placeholders (named style). \n",
    "\n",
    "For the qmark style, parameters must be a sequence. \n",
    "For the named style, it can be either a sequence or dict instance. \n",
    "\n",
    "The length of the sequence must match the number of placeholders, or a ProgrammingError is raised. \n",
    "If a dict is given, it must contain keys for all named parameters. \n",
    "Any extra items are ignored."
   ]
  },
  {
   "cell_type": "code",
   "execution_count": null,
   "metadata": {},
   "outputs": [],
   "source": [
    "import sqlite3\n",
    "connnection = sqlite3.connect(db_name)\n",
    "cursor = connnection.cursor()\n",
    "try:\n",
    "    cursor.execute(\"CREATE TABLE IF NOT EXISTS lang (name, first_appeared)\")\n",
    "\n",
    "    # This is the qmark style:\n",
    "    cursor.execute(\"insert into lang values (?, ?)\", (\"C\", 1972))\n",
    "\n",
    "    # The qmark style used with executemany():\n",
    "    lang_list = [\n",
    "        (\"Fortran\", 1957),\n",
    "        (\"Python\", 1991),\n",
    "        (\"Go\", 2009),\n",
    "    ]\n",
    "\n",
    "    cursor.executemany(\"insert into lang values (?, ?)\", lang_list)\n",
    "\n",
    "    connnection.commit()\n",
    "\n",
    "    # And this is the named style:\n",
    "    cursor.execute(\"select * from lang where first_appeared=:year\", {\"year\": 1972})\n",
    "    print(cursor.fetchall())\n",
    "finally:\n",
    "    connnection.close() \n"
   ]
  }
 ],
 "metadata": {
  "interpreter": {
   "hash": "38740d3277777e2cd7c6c2cc9d8addf5118fdf3f82b1b39231fd12aeac8aee8b"
  },
  "kernelspec": {
   "display_name": "Python 3.10.0 64-bit",
   "language": "python",
   "name": "python3"
  },
  "language_info": {
   "codemirror_mode": {
    "name": "ipython",
    "version": 3
   },
   "file_extension": ".py",
   "mimetype": "text/x-python",
   "name": "python",
   "nbconvert_exporter": "python",
   "pygments_lexer": "ipython3",
   "version": "3.10.0"
  },
  "orig_nbformat": 4
 },
 "nbformat": 4,
 "nbformat_minor": 2
}
