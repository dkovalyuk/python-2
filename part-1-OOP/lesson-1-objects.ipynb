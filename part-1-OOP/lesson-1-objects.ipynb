{
 "cells": [
  {
   "cell_type": "code",
   "execution_count": null,
   "metadata": {},
   "outputs": [],
   "source": [
    "class User:\n",
    "    login = ''\n",
    "    passw = ''\n",
    "    role = 'operator'"
   ]
  },
  {
   "cell_type": "code",
   "execution_count": null,
   "metadata": {},
   "outputs": [],
   "source": [
    "class User:\n",
    "    login = ''\n",
    "    passw = ''\n",
    "    role = 'operator'\n",
    "\n",
    "\n",
    "dkovalyuk = User()\n",
    "dkovalyuk.login = 'dmytro.kovalyuk'\n",
    "dkovalyuk.passw = '12345'\n",
    "\n",
    "user_1 = User()\n",
    "user_1.login = 'user_1'\n",
    "user_1.passw = 'user_1_007'\n",
    "\n",
    "dkovalyuk = user_1\n",
    "user_1.login = 'TEST'\n",
    "\n",
    "print(dkovalyuk.login)"
   ]
  },
  {
   "cell_type": "code",
   "execution_count": null,
   "metadata": {},
   "outputs": [],
   "source": [
    "class User:\n",
    "    login = ''\n",
    "    passw = ''\n",
    "    role = 'operator'\n",
    "\n",
    "\n",
    "    def set_login(self, new_login):\n",
    "        self.login = new_login\n",
    "\n",
    "\n",
    "    def change_password(self, new_password):\n",
    "        self.passw = new_password    \n",
    "\n",
    "\n",
    "    def get_role(self):\n",
    "        return self.role    \n",
    "\n",
    "\n",
    "    def print_info(self):\n",
    "        print('login: ', self.login, ', role: ', self.role)    \n",
    "\n",
    "\n",
    "dkovalyuk = User()\n",
    "dkovalyuk.set_login('dmytro.kovalyuk')\n",
    "dkovalyuk.change_password('ASD222x^0')\n",
    "\n",
    "#print(dkovalyuk.get_role())\n",
    "#print(dkovalyuk.login)\n",
    "\n",
    "dkovalyuk.print_info()"
   ]
  },
  {
   "cell_type": "code",
   "execution_count": null,
   "metadata": {},
   "outputs": [],
   "source": [
    "class Human:\n",
    "    name = ''\n",
    "    age = 20\n",
    "    sex = 'mail'\n",
    "\n",
    "\n",
    "class Developer(Human):\n",
    "    language = ''\n",
    "    IDE = ''\n",
    "    company = ''  \n",
    "    age = 10  \n",
    "\n",
    "\n",
    "class PythonDeveloper(Developer):\n",
    "    python_area = list()\n",
    "    language = 'Python'\n",
    "\n",
    "    def print_developer_info(self):\n",
    "        print(self.name,',', self.IDE)\n",
    "\n",
    "\n",
    "Kovalyuk = PythonDeveloper()\n",
    "Kovalyuk.language = 'Python'\n",
    "Kovalyuk.IDE = 'VS Code'\n",
    "Kovalyuk.python_area.append('core')\n",
    "Kovalyuk.age = 39\n",
    "Kovalyuk.name = 'Dmytro Kovalyuk'\n",
    "print(Kovalyuk.age)\n",
    "\n",
    "Kovalyuk.print_developer_info()"
   ]
  },
  {
   "cell_type": "code",
   "execution_count": null,
   "metadata": {},
   "outputs": [],
   "source": [
    "class A:\n",
    "    x = 'I am A class'\n",
    "\n",
    "\n",
    "class B:\n",
    "    x = 'I am B class'\n",
    "    y = 'I exist only in B'\n",
    "\n",
    "\n",
    "class C(B, A):\n",
    "    z = \"This exists only in C\"\n",
    "\n",
    "\n",
    "c = C()\n",
    "print(c.z)  # This exists only in C\n",
    "print(c.y)  # I exist only in B\n",
    "print(c.x)  # I am A class"
   ]
  }
 ],
 "metadata": {
  "interpreter": {
   "hash": "38740d3277777e2cd7c6c2cc9d8addf5118fdf3f82b1b39231fd12aeac8aee8b"
  },
  "kernelspec": {
   "display_name": "Python 3.10.0 64-bit",
   "language": "python",
   "name": "python3"
  },
  "language_info": {
   "codemirror_mode": {
    "name": "ipython",
    "version": 3
   },
   "file_extension": ".py",
   "mimetype": "text/x-python",
   "name": "python",
   "nbconvert_exporter": "python",
   "pygments_lexer": "ipython3",
   "version": "3.10.0"
  },
  "orig_nbformat": 4
 },
 "nbformat": 4,
 "nbformat_minor": 2
}
