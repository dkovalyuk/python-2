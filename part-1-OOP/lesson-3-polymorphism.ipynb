{
 "cells": [
  {
   "cell_type": "code",
   "execution_count": 1,
   "metadata": {},
   "outputs": [
    {
     "name": "stdout",
     "output_type": "stream",
     "text": [
      "Recorded \"Meow!\"\n",
      "Recorded \"Bark!\"\n",
      "Recorded \"Whooooo!!!\"\n"
     ]
    }
   ],
   "source": [
    "class Mammal:\n",
    "    phrase = ''\n",
    "    def voice(self):\n",
    "        return self.phrase\n",
    "\n",
    "\n",
    "class Dog(Mammal):\n",
    "    phrase = 'Bark!'\n",
    "\n",
    "\n",
    "\n",
    "class Cat(Mammal):\n",
    "    phrase = 'Meow!'\n",
    "\n",
    "\n",
    "class Chupakabra:\n",
    "    def voice(self):\n",
    "        return 'Whooooo!!!'\n",
    "\n",
    "\n",
    "class Recorder:\n",
    "    def record_animal(self, animal):\n",
    "        voice = animal.voice()\n",
    "        print(f'Recorded \"{voice}\"')\n",
    "\n",
    "\n",
    "r = Recorder()\n",
    "cat = Cat()\n",
    "dog = Dog()\n",
    "strange_animal = Chupakabra()\n",
    "\n",
    "r.record_animal(cat)            # Recorded \"Meow!\"\n",
    "r.record_animal(dog)            # Recorded \"Bark!\"\n",
    "r.record_animal(strange_animal) # Recorded \"Whooooo!!!\""
   ]
  }
 ],
 "metadata": {
  "interpreter": {
   "hash": "38740d3277777e2cd7c6c2cc9d8addf5118fdf3f82b1b39231fd12aeac8aee8b"
  },
  "kernelspec": {
   "display_name": "Python 3.10.0 64-bit",
   "language": "python",
   "name": "python3"
  },
  "language_info": {
   "codemirror_mode": {
    "name": "ipython",
    "version": 3
   },
   "file_extension": ".py",
   "mimetype": "text/x-python",
   "name": "python",
   "nbconvert_exporter": "python",
   "pygments_lexer": "ipython3",
   "version": "3.10.0"
  },
  "orig_nbformat": 4
 },
 "nbformat": 4,
 "nbformat_minor": 2
}
