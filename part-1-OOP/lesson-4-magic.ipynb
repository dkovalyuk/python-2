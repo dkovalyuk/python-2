{
 "cells": [
  {
   "cell_type": "code",
   "execution_count": 3,
   "metadata": {},
   "outputs": [
    {
     "name": "stdout",
     "output_type": "stream",
     "text": [
      "First Name: Bill\n"
     ]
    }
   ],
   "source": [
    "class Human:\n",
    "    \n",
    "    def __init__(self, name, age=0):\n",
    "        self.name = name\n",
    "        self.age = age\n",
    "\n",
    "    def say_hello(self):\n",
    "        return f'Hello! I am {self.name}'\n",
    "\n",
    "    def __repr__(self):\n",
    "        return f'First Name: {self.name}'    \n",
    "\n",
    "\n",
    "bill = Human('Bill')\n",
    "print(bill)\n",
    "\n",
    "#print(bill.say_hello())  # Hello! I am Bill\n",
    "#print(bill.age)          # 0\n",
    "\n",
    "#jill = Human('Jill', 30)\n",
    "#print(jill.say_hello())  # Hello! I am Jill\n",
    "#rint(jill.age)          # 20"
   ]
  },
  {
   "cell_type": "code",
   "execution_count": 1,
   "metadata": {},
   "outputs": [
    {
     "data": {
      "text/plain": [
       "[1, 2]"
      ]
     },
     "execution_count": 1,
     "metadata": {},
     "output_type": "execute_result"
    }
   ],
   "source": [
    "l = [1, 2]\n",
    "l"
   ]
  },
  {
   "cell_type": "code",
   "execution_count": 26,
   "metadata": {},
   "outputs": [
    {
     "name": "stdout",
     "output_type": "stream",
     "text": [
      "Point (coord x: 1, y:9)\n",
      "Point 1\n"
     ]
    }
   ],
   "source": [
    "class Point:\n",
    "    def __init__(self, x, y):\n",
    "        self.x = x\n",
    "        self.y = y\n",
    "\n",
    "    def __str__(self):\n",
    "        return f'Point {self.x}'    \n",
    "\n",
    "\n",
    "    def __repr__(self):\n",
    "        return f'Point (coord x: {self.x}, y:{self.y})'\n",
    "\n",
    "\n",
    "a = Point(1, 9)\n",
    "\n",
    "print(a)\n",
    "print(str(a))\n",
    "\n"
   ]
  },
  {
   "cell_type": "code",
   "execution_count": 14,
   "metadata": {},
   "outputs": [
    {
     "name": "stdout",
     "output_type": "stream",
     "text": [
      "Hello! I am Bill\n"
     ]
    }
   ],
   "source": [
    "class Human:\n",
    "    def __init__(self, name, age=0):\n",
    "        self.name = name\n",
    "        self.age = age\n",
    "\n",
    "    def __str__(self):\n",
    "        return f'Hello! I am {self.name}'\n",
    "\n",
    "\n",
    "bill = Human('Bill')\n",
    "bill_str = str(bill)\n",
    "print(bill_str)  # Hello! I am Bill"
   ]
  },
  {
   "cell_type": "code",
   "execution_count": 27,
   "metadata": {},
   "outputs": [
    {
     "name": "stdout",
     "output_type": "stream",
     "text": [
      "a, b\n"
     ]
    }
   ],
   "source": [
    "#https://stackoverflow.com/questions/43627405/understanding-getitem-method\n",
    "\n",
    "class ListedValuesDict:\n",
    "    def __init__(self):\n",
    "        self.data = {}\n",
    "\n",
    "    def __setitem__(self, key, value):\n",
    "        if key in self.data:\n",
    "            self.data[key].append(value)\n",
    "        else:\n",
    "            self.data[key] = [value]\n",
    "\n",
    "    def __getitem__(self, key):\n",
    "        result = str(self.data[key][0])\n",
    "        for value in self.data[key][1:]:\n",
    "            result += \", \" + str(value)\n",
    "        return result\n",
    "\n",
    "\n",
    "l_dict = ListedValuesDict()\n",
    "l_dict[1] = 'a'\n",
    "l_dict[1] = 'b'\n",
    "print(l_dict[1])    # a, b"
   ]
  },
  {
   "cell_type": "code",
   "execution_count": 16,
   "metadata": {},
   "outputs": [
    {
     "name": "stdout",
     "output_type": "stream",
     "text": [
      "7\n",
      "6\n",
      "8\n",
      "7\n"
     ]
    }
   ],
   "source": [
    "class Adder:\n",
    "    def __init__(self, add_value):\n",
    "        self.add_value = add_value\n",
    "\n",
    "    def __call__(self, value):\n",
    "        return self.add_value + value\n",
    "\n",
    "\n",
    "two_adder = Adder(2)\n",
    "print(two_adder(5))  # 7\n",
    "print(two_adder(4))  # 6\n",
    "\n",
    "three_adder = Adder(3)\n",
    "print(three_adder(5))  # 8\n",
    "print(three_adder(4))  # 7"
   ]
  },
  {
   "cell_type": "code",
   "execution_count": 17,
   "metadata": {},
   "outputs": [
    {
     "name": "stdout",
     "output_type": "stream",
     "text": [
      "connected to localhost:8080\n",
      "True\n",
      "True\n",
      "No problem\n",
      "False\n"
     ]
    }
   ],
   "source": [
    "class Session:\n",
    "    def __init__(self, addr, port=8080):\n",
    "        self.connected = True\n",
    "        self.addr = addr\n",
    "        self.port = port\n",
    "\n",
    "    def __enter__(self):\n",
    "        print(f\"connected to {self.addr}:{self.port}\")\n",
    "        return self\n",
    "\n",
    "    def __exit__(self, exception_type, exception_value, traceback):\n",
    "        self.connected = False\n",
    "        if exception_type is not None:\n",
    "            print(\"Some error!\")\n",
    "        else:\n",
    "            print(\"No problem\")\n",
    "\n",
    "\n",
    "localhost_session = Session(\"localhost\")\n",
    "\n",
    "with localhost_session as session:\n",
    "    print(session is localhost_session)     # True\n",
    "    print(localhost_session.connected)      # True\n",
    "\n",
    "print(localhost_session.connected)          # False"
   ]
  },
  {
   "cell_type": "code",
   "execution_count": 18,
   "metadata": {},
   "outputs": [
    {
     "name": "stdout",
     "output_type": "stream",
     "text": [
      "this is public\n",
      "avoid using this please\n",
      "I am hidden\n"
     ]
    }
   ],
   "source": [
    "class Secret:\n",
    "    public_field = 'this is public'\n",
    "    _private_field = 'avoid using this please'\n",
    "    __real_secret = 'I am hidden'\n",
    "\n",
    "s = Secret()\n",
    "print(s.public_field)           # this is public\n",
    "print(s._private_field)         # avoid using this please\n",
    "print(s._Secret__real_secret)   # I am hidden"
   ]
  },
  {
   "cell_type": "code",
   "execution_count": 19,
   "metadata": {},
   "outputs": [
    {
     "name": "stdout",
     "output_type": "stream",
     "text": [
      "2\n",
      "Only numbers greater zero accepted\n",
      "-1\n"
     ]
    }
   ],
   "source": [
    "class PositiveNumber:\n",
    "    def __init__(self):\n",
    "        self.__value = None\n",
    "\n",
    "    @property\n",
    "    def value(self):\n",
    "        return self.__value\n",
    "\n",
    "    @value.setter\n",
    "    def value(self, new_value):\n",
    "        if new_value > 0:\n",
    "            self.__value = new_value\n",
    "        else:\n",
    "            print('Only numbers greater zero accepted')\n",
    "\n",
    "\n",
    "p = PositiveNumber()\n",
    "p.value = 2\n",
    "print(p.value)  # 1\n",
    "p.value = -1    # Only numbers greater zero accepted\n",
    "p._PositiveNumber__value = -1\n",
    "print(p.value)  # -1s"
   ]
  },
  {
   "cell_type": "code",
   "execution_count": 20,
   "metadata": {},
   "outputs": [
    {
     "name": "stdout",
     "output_type": "stream",
     "text": [
      "Password must have at least 3 symbols\n",
      "login is kovalyuk-login\n"
     ]
    }
   ],
   "source": [
    "# https://www.datacamp.com/community/tutorials/property-getters-setters\n",
    "# https://docs.python.org/3/library/functions.html?highlight=property#property\n",
    "\n",
    "class User:\n",
    "\n",
    "    def __init__(self):\n",
    "        self._login = ''\n",
    "\n",
    "    def set_login(self, login_value):\n",
    "        if len(login_value) > 8:\n",
    "            self._login = login_value\n",
    "        else:\n",
    "            print('Password must have at least 3 symbols')\n",
    "\n",
    "    def get_login(self):\n",
    "        return f'login is {self._login}'\n",
    "\n",
    "\n",
    "    def del_login(self):\n",
    "        del self._login    \n",
    "\n",
    "\n",
    "    login = property(get_login, set_login,  del_login, \"I'm the 'login' property.\")\n",
    "    #login = property(fget=get_login, fset=set_login)\n",
    "\n",
    "\n",
    "Dima = User()\n",
    "Dima.login = 'dok'\n",
    "Dima.login = 'kovalyuk-login'\n",
    "print(Dima.login)"
   ]
  },
  {
   "cell_type": "code",
   "execution_count": 21,
   "metadata": {},
   "outputs": [
    {
     "name": "stdout",
     "output_type": "stream",
     "text": [
      "Password must have at least 8 symbols\n",
      "test_12345678\n",
      "('Password is:', 'test_12345678')\n"
     ]
    }
   ],
   "source": [
    "class User:\n",
    "    def __init__(self):\n",
    "        self._passw = ''\n",
    "\n",
    "    @property\n",
    "    def password(self):\n",
    "        return 'Password is:', self._passw\n",
    "\n",
    "    @password.setter\n",
    "    def password(self, new_value):\n",
    "        if len(new_value) > 8:\n",
    "            self._passw = new_value\n",
    "        else:\n",
    "            print('Password must have at least 8 symbols')\n",
    "\n",
    "\n",
    "\n",
    "Dima = User()\n",
    "Dima._passw = 'test1'\n",
    "Dima.password = 'test3'\n",
    "Dima.password = 'test_12345678'\n",
    "\n",
    "print(Dima._passw)\n",
    "print(Dima.password)"
   ]
  },
  {
   "cell_type": "code",
   "execution_count": 22,
   "metadata": {},
   "outputs": [
    {
     "name": "stdout",
     "output_type": "stream",
     "text": [
      "2.50 грн.\n",
      "2.5\n",
      "12.00 грн.\n",
      "12.0\n"
     ]
    }
   ],
   "source": [
    "class Cash(object):\n",
    "    def __init__(self, value):\n",
    "        self.value = value\n",
    "    \n",
    "    @property\n",
    "    def formatted(self):\n",
    "        return '{:.2f} грн.'.format(self.value)\n",
    "    \n",
    "    @formatted.setter\n",
    "    def formatted(self, new):\n",
    "        self.value = float(new)\n",
    "\n",
    "\n",
    "money = Cash(2.5)\n",
    "print(money.formatted)\n",
    "print(money.value)\n",
    "\n",
    "money.formatted = '12'\n",
    "print(money.formatted)\n",
    "print(money.value)"
   ]
  },
  {
   "cell_type": "code",
   "execution_count": 23,
   "metadata": {},
   "outputs": [
    {
     "data": {
      "text/plain": [
       "True"
      ]
     },
     "execution_count": 23,
     "metadata": {},
     "output_type": "execute_result"
    }
   ],
   "source": [
    "class Point:\n",
    "    def __init__(self, x, y):\n",
    "        self.x = x\n",
    "        self.y = y\n",
    "\n",
    "    def __eq__(self, other):\n",
    "        return self.x == other.x and self.y == other.y\n",
    "\n",
    "    def __ne__(self, other):\n",
    "        return self.x != other.x or self.y != other.y\n",
    "\n",
    "    def __lt__(self, other):\n",
    "        return self.x < other.x and self.y < other.y\n",
    "\n",
    "    def __gt__(self, other):\n",
    "        return self.x > other.x and self.y > other.y\n",
    "\n",
    "    def __le__(self, other):\n",
    "        return self.x <= other.x and self.y <= other.y\n",
    "\n",
    "    def __ge__(self, other):\n",
    "        return self.x >= other.x and self.y >= other.y\n",
    "\n",
    "\n",
    "Point(0, 0) == Point(0, 0)  # True\n",
    "Point(0, 0) != Point(0, 0)  # False\n",
    "Point(0, 0) < Point(1, 0)   # False\n",
    "Point(0, 0) > Point(0, 1)   # False\n",
    "Point(0, 2) >= Point(0, 1)  # True\n",
    "Point(0, 0) <= Point(0, 0)  # True"
   ]
  }
 ],
 "metadata": {
  "interpreter": {
   "hash": "38740d3277777e2cd7c6c2cc9d8addf5118fdf3f82b1b39231fd12aeac8aee8b"
  },
  "kernelspec": {
   "display_name": "Python 3.10.0 64-bit",
   "language": "python",
   "name": "python3"
  },
  "language_info": {
   "codemirror_mode": {
    "name": "ipython",
    "version": 3
   },
   "file_extension": ".py",
   "mimetype": "text/x-python",
   "name": "python",
   "nbconvert_exporter": "python",
   "pygments_lexer": "ipython3",
   "version": "3.10.0"
  },
  "orig_nbformat": 4
 },
 "nbformat": 4,
 "nbformat_minor": 2
}
